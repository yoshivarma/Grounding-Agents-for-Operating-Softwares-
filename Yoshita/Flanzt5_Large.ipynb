{
 "cells": [
  {
   "cell_type": "code",
   "execution_count": 67,
   "id": "871b2ece-cab6-4740-a4e1-d759d175e43c",
   "metadata": {},
   "outputs": [],
   "source": [
    "import transformers\n",
    "import torch\n",
    "import tensor_parallel as tp\n",
    "import pandas as pd\n",
    "import numpy as np\n",
    "from matplotlib import pyplot as plt\n",
    "import pandas as pd\n",
    "import warnings\n",
    "warnings.filterwarnings('ignore')\n",
    "#from fuzzywuzzy import fuzz"
   ]
  },
  {
   "cell_type": "code",
   "execution_count": 68,
   "id": "7ea821e6-6671-4606-a7f4-34e95d5a998a",
   "metadata": {},
   "outputs": [
    {
     "ename": "NameError",
     "evalue": "name 'init_empty_weights' is not defined",
     "output_type": "error",
     "traceback": [
      "\u001b[0;31m---------------------------------------------------------------------------\u001b[0m",
      "\u001b[0;31mNameError\u001b[0m                                 Traceback (most recent call last)",
      "Cell \u001b[0;32mIn[68], line 4\u001b[0m\n\u001b[1;32m      1\u001b[0m \u001b[38;5;28;01mfrom\u001b[39;00m \u001b[38;5;21;01mtransformers\u001b[39;00m \u001b[38;5;28;01mimport\u001b[39;00m T5Tokenizer, T5ForConditionalGeneration\n\u001b[1;32m      3\u001b[0m tokenizer \u001b[38;5;241m=\u001b[39m T5Tokenizer\u001b[38;5;241m.\u001b[39mfrom_pretrained(\u001b[38;5;124m\"\u001b[39m\u001b[38;5;124mgoogle/flan-t5-large\u001b[39m\u001b[38;5;124m\"\u001b[39m)\n\u001b[0;32m----> 4\u001b[0m model \u001b[38;5;241m=\u001b[39m \u001b[43mT5ForConditionalGeneration\u001b[49m\u001b[38;5;241;43m.\u001b[39;49m\u001b[43mfrom_pretrained\u001b[49m\u001b[43m(\u001b[49m\u001b[38;5;124;43m\"\u001b[39;49m\u001b[38;5;124;43mgoogle/flan-t5-large\u001b[39;49m\u001b[38;5;124;43m\"\u001b[39;49m\u001b[43m,\u001b[49m\u001b[43m \u001b[49m\u001b[43mdevice_map\u001b[49m\u001b[38;5;241;43m=\u001b[39;49m\u001b[38;5;124;43m\"\u001b[39;49m\u001b[38;5;124;43mauto\u001b[39;49m\u001b[38;5;124;43m\"\u001b[39;49m\u001b[43m)\u001b[49m\n\u001b[1;32m      6\u001b[0m input_text \u001b[38;5;241m=\u001b[39m \u001b[38;5;124m\"\u001b[39m\u001b[38;5;124mtranslate English to German: How old are you?\u001b[39m\u001b[38;5;124m\"\u001b[39m\n\u001b[1;32m      7\u001b[0m input_ids \u001b[38;5;241m=\u001b[39m tokenizer(input_text, return_tensors\u001b[38;5;241m=\u001b[39m\u001b[38;5;124m\"\u001b[39m\u001b[38;5;124mpt\u001b[39m\u001b[38;5;124m\"\u001b[39m)\u001b[38;5;241m.\u001b[39minput_ids\u001b[38;5;241m.\u001b[39mto(\u001b[38;5;124m\"\u001b[39m\u001b[38;5;124mcuda\u001b[39m\u001b[38;5;124m\"\u001b[39m)\n",
      "File \u001b[0;32m~/.local/lib/python3.9/site-packages/transformers/modeling_utils.py:2359\u001b[0m, in \u001b[0;36mPreTrainedModel.from_pretrained\u001b[0;34m(cls, pretrained_model_name_or_path, *model_args, **kwargs)\u001b[0m\n\u001b[1;32m   2357\u001b[0m     init_contexts \u001b[38;5;241m=\u001b[39m [deepspeed\u001b[38;5;241m.\u001b[39mzero\u001b[38;5;241m.\u001b[39mInit(config_dict_or_path\u001b[38;5;241m=\u001b[39mdeepspeed_config())] \u001b[38;5;241m+\u001b[39m init_contexts\n\u001b[1;32m   2358\u001b[0m \u001b[38;5;28;01melif\u001b[39;00m load_in_8bit \u001b[38;5;129;01mor\u001b[39;00m low_cpu_mem_usage:\n\u001b[0;32m-> 2359\u001b[0m     init_contexts\u001b[38;5;241m.\u001b[39mappend(\u001b[43minit_empty_weights\u001b[49m())\n\u001b[1;32m   2361\u001b[0m \u001b[38;5;28;01mwith\u001b[39;00m ContextManagers(init_contexts):\n\u001b[1;32m   2362\u001b[0m     model \u001b[38;5;241m=\u001b[39m \u001b[38;5;28mcls\u001b[39m(config, \u001b[38;5;241m*\u001b[39mmodel_args, \u001b[38;5;241m*\u001b[39m\u001b[38;5;241m*\u001b[39mmodel_kwargs)\n",
      "\u001b[0;31mNameError\u001b[0m: name 'init_empty_weights' is not defined"
     ]
    }
   ],
   "source": [
    "from transformers import T5Tokenizer, T5ForConditionalGeneration\n",
    "\n",
    "tokenizer = T5Tokenizer.from_pretrained(\"google/flan-t5-large\")\n",
    "model = T5ForConditionalGeneration.from_pretrained(\"google/flan-t5-large\", device_map=\"auto\")\n",
    "\n",
    "input_text = \"translate English to German: How old are you?\"\n",
    "input_ids = tokenizer(input_text, return_tensors=\"pt\").input_ids.to(\"cuda\")\n",
    "\n",
    "outputs = model.generate(input_ids)\n",
    "print(tokenizer.decode(outputs[0]))\n",
    "\n"
   ]
  },
  {
   "cell_type": "code",
   "execution_count": 85,
   "id": "ca02adbb-f98d-4074-9f64-9dfa25d31ab6",
   "metadata": {},
   "outputs": [],
   "source": [
    "#from transformers import AutoModelForSeq2SeqLM, AutoTokenizer\n",
    "\n",
    "#model = AutoModelForSeq2SeqLM.from_pretrained(\"google/flan-t5-xl\")\n",
    "#tokenizer = AutoTokenizer.from_pretrained(\"google/flan-t5-xl\")\n",
    "\n",
    "from transformers import AutoModelForSeq2SeqLM, AutoTokenizer\n",
    "\n",
    "model = AutoModelForSeq2SeqLM.from_pretrained(\"google/flan-t5-large\")\n",
    "tokenizer = AutoTokenizer.from_pretrained(\"google/flan-t5-large\")\n"
   ]
  },
  {
   "cell_type": "code",
   "execution_count": 74,
   "id": "83acd5c6-cf90-4b8a-a8f7-502731ad2cc2",
   "metadata": {},
   "outputs": [],
   "source": [
    "model = tp.tensor_parallel(model)"
   ]
  },
  {
   "cell_type": "code",
   "execution_count": 75,
   "id": "d1748de8-0ed7-4381-87fa-937b00e6f71a",
   "metadata": {},
   "outputs": [
    {
     "data": {
      "text/html": [
       "<div>\n",
       "<style scoped>\n",
       "    .dataframe tbody tr th:only-of-type {\n",
       "        vertical-align: middle;\n",
       "    }\n",
       "\n",
       "    .dataframe tbody tr th {\n",
       "        vertical-align: top;\n",
       "    }\n",
       "\n",
       "    .dataframe thead th {\n",
       "        text-align: right;\n",
       "    }\n",
       "</style>\n",
       "<table border=\"1\" class=\"dataframe\">\n",
       "  <thead>\n",
       "    <tr style=\"text-align: right;\">\n",
       "      <th></th>\n",
       "      <th>0</th>\n",
       "      <th>1</th>\n",
       "      <th>2</th>\n",
       "      <th>3</th>\n",
       "    </tr>\n",
       "  </thead>\n",
       "  <tbody>\n",
       "    <tr>\n",
       "      <th>0</th>\n",
       "      <td>Instructions</td>\n",
       "      <td>Labels</td>\n",
       "      <td>Links</td>\n",
       "      <td>Notes</td>\n",
       "    </tr>\n",
       "    <tr>\n",
       "      <th>1</th>\n",
       "      <td>1. Go to Transactions &gt; Bank &gt; Make Deposits &gt;...</td>\n",
       "      <td>click[Transactions], click[Bank], click[Make D...</td>\n",
       "      <td>https://docs.oracle.com/en/cloud/saas/netsuite...</td>\n",
       "      <td>NaN</td>\n",
       "    </tr>\n",
       "    <tr>\n",
       "      <th>2</th>\n",
       "      <td>1. Go to Transactions &gt; Bank &gt; Make Deposits &gt;...</td>\n",
       "      <td>click[Transactions], click[Bank], click[Make D...</td>\n",
       "      <td>https://docs.oracle.com/en/cloud/saas/netsuite...</td>\n",
       "      <td>NaN</td>\n",
       "    </tr>\n",
       "    <tr>\n",
       "      <th>3</th>\n",
       "      <td>1. Go to Setup &gt; Users/Roles &gt; Manage Roles. 2...</td>\n",
       "      <td>click[Setup], click[Users/Roles], click[Manage...</td>\n",
       "      <td>https://docs.oracle.com/en/cloud/saas/netsuite...</td>\n",
       "      <td>NaN</td>\n",
       "    </tr>\n",
       "    <tr>\n",
       "      <th>4</th>\n",
       "      <td>1. From the Deposits list, click Customize Vie...</td>\n",
       "      <td>click[Customize View], click[Available Filters...</td>\n",
       "      <td>NaN</td>\n",
       "      <td>NaN</td>\n",
       "    </tr>\n",
       "  </tbody>\n",
       "</table>\n",
       "</div>"
      ],
      "text/plain": [
       "                                                   0  \\\n",
       "0                                       Instructions   \n",
       "1  1. Go to Transactions > Bank > Make Deposits >...   \n",
       "2  1. Go to Transactions > Bank > Make Deposits >...   \n",
       "3  1. Go to Setup > Users/Roles > Manage Roles. 2...   \n",
       "4  1. From the Deposits list, click Customize Vie...   \n",
       "\n",
       "                                                   1  \\\n",
       "0                                             Labels   \n",
       "1  click[Transactions], click[Bank], click[Make D...   \n",
       "2  click[Transactions], click[Bank], click[Make D...   \n",
       "3  click[Setup], click[Users/Roles], click[Manage...   \n",
       "4  click[Customize View], click[Available Filters...   \n",
       "\n",
       "                                                   2      3  \n",
       "0                                              Links  Notes  \n",
       "1  https://docs.oracle.com/en/cloud/saas/netsuite...    NaN  \n",
       "2  https://docs.oracle.com/en/cloud/saas/netsuite...    NaN  \n",
       "3  https://docs.oracle.com/en/cloud/saas/netsuite...    NaN  \n",
       "4                                                NaN    NaN  "
      ]
     },
     "execution_count": 75,
     "metadata": {},
     "output_type": "execute_result"
    }
   ],
   "source": [
    "#reading dataset\n",
    "temp_dataset = pd.read_csv('Dataset 696 - Sheet1.csv', header = None)\n",
    "temp_dataset.head()"
   ]
  },
  {
   "cell_type": "code",
   "execution_count": 76,
   "id": "a048423d-1ac4-410d-9948-287bc4de6a4c",
   "metadata": {},
   "outputs": [],
   "source": [
    "from sentence_transformers import SentenceTransformer, util\n",
    "em_model = SentenceTransformer('all-MiniLM-L6-v2')"
   ]
  },
  {
   "cell_type": "code",
   "execution_count": 83,
   "id": "b63c4596-f1e2-4e39-bd80-a2a4ef975a40",
   "metadata": {},
   "outputs": [],
   "source": [
    "def Predict(input, data, dataset):\n",
    "    prompt_str = \"Please answer to the following question: \"\n",
    "    \n",
    "    for index, row in data.iterrows():\n",
    "        new_row = dataset.loc[dataset[0] == row[0]]\n",
    "        prompt_str = prompt_str + new_row[0] + \" => \" + new_row[1] + \". \"\n",
    "        \n",
    "    input_str = prompt_str + \" \"+ str(input)+ \" =>\"\n",
    "    print(\"input string\", input_str)\n",
    "    inputs = tokenizer(str(input_str), return_tensors=\"pt\", padding = True)\n",
    "    outputs = model.generate(**inputs, max_new_tokens=500)\n",
    "    return tokenizer.batch_decode(outputs, skip_special_tokens=True)"
   ]
  },
  {
   "cell_type": "code",
   "execution_count": 78,
   "id": "0ce9a856-6dbc-4856-935f-f9caf4cfd0a5",
   "metadata": {
    "tags": []
   },
   "outputs": [],
   "source": [
    "def normalize_text(s):\n",
    "    \"\"\"Removing articles and punctuation, and standardizing whitespace are all typical text processing steps.\"\"\"\n",
    "    import string, re\n",
    "\n",
    "    def remove_articles(text):\n",
    "        regex = re.compile(r\"\\b(a|an|the)\\b\", re.UNICODE)\n",
    "        return re.sub(regex, \" \", text)\n",
    "\n",
    "    def white_space_fix(text):\n",
    "        return \" \".join(text.split())\n",
    "\n",
    "    def remove_punc(text):\n",
    "        exclude = set(string.punctuation)\n",
    "        return \"\".join(ch for ch in text if ch not in exclude)\n",
    "\n",
    "    def lower(text):\n",
    "        return text.lower()\n",
    "\n",
    "    return white_space_fix(remove_articles(remove_punc(lower(s))))\n"
   ]
  },
  {
   "cell_type": "code",
   "execution_count": 79,
   "id": "740df03c-1fca-4b12-b289-ae42eac4ee7d",
   "metadata": {},
   "outputs": [],
   "source": [
    "def In_Context_Example(test_sentence, data):\n",
    "\n",
    "    in_context_examples = {}\n",
    "    sentences = []\n",
    "\n",
    "    for index, row in data.iterrows():\n",
    "        sentences.append(str(row[0]))\n",
    "\n",
    "    test_embedding = em_model.encode(test_sentence)\n",
    "    embeddings = em_model.encode(sentences)\n",
    "      \n",
    "    #Compute cosine similarity between my sentence, and each one in the corpus\n",
    "    cos_sim = util.cos_sim(test_embedding, embeddings)\n",
    "\n",
    "    # lets go through our array and find our best one!\n",
    "    # remember, we want the highest value here (highest cosine similiarity)\n",
    "    top_k = []\n",
    "    for arr in cos_sim:\n",
    "        for i, each_val in enumerate(arr):\n",
    "            top_k.append([sentences[i],each_val])\n",
    "\n",
    "    # lets get the top 2 sentences\n",
    "    \n",
    "    final_top_k = sorted(top_k, key=lambda x: x[1], reverse=True)\n",
    "    \n",
    "    return final_top_k"
   ]
  },
  {
   "cell_type": "code",
   "execution_count": 80,
   "id": "6f0aedbb-39a3-42ff-8682-26b4fa2bea05",
   "metadata": {},
   "outputs": [],
   "source": [
    "def Generate_In_Context_Examples(dataset):\n",
    "\n",
    "    in_context_examples_dict = {}\n",
    "    for index, row in dataset.iterrows():\n",
    "        sliced_df = pd.concat([dataset[:index-1], dataset[index+1:]]) \n",
    "        final_top_k = In_Context_Example(row[0], sliced_df)\n",
    "        in_context_examples_dict[str(row[0])] = final_top_k\n",
    "    print(\"len\", len(in_context_examples_dict))\n",
    "    return in_context_examples_dict"
   ]
  },
  {
   "cell_type": "code",
   "execution_count": 81,
   "id": "f061ae67-bdfd-4009-8cb5-1d7dddcc81ed",
   "metadata": {},
   "outputs": [],
   "source": [
    "from torchmetrics.text.bert import BERTScore\n",
    "bertscore = BERTScore()"
   ]
  },
  {
   "cell_type": "code",
   "execution_count": 82,
   "id": "eb486d89-320b-400f-aa0a-baa3537a1ccf",
   "metadata": {},
   "outputs": [],
   "source": [
    "def N_shots(dataset, shots):\n",
    "\n",
    "    in_context_examples_dict = Generate_In_Context_Examples(dataset)\n",
    "    metric = {}\n",
    "    for i in range(shots):\n",
    "        N_shot_results = []\n",
    "        count = 0\n",
    "        Bertscore_metric = 0\n",
    "        for j, key in enumerate(in_context_examples_dict.keys()):\n",
    "\n",
    "            new_row = dataset.loc[dataset[0] == key]\n",
    "            if count == 0:\n",
    "                new_df = pd.DataFrame(in_context_examples_dict[key][:i])\n",
    "                count +=1\n",
    "            \n",
    "            #predicted  \n",
    "            predicted = str(Predict(key, new_df, dataset)).lower()\n",
    "            print(\"Predicted\", predicted)\n",
    "            truth = str(\"['\"+new_row[1]+\"']\").lower()\n",
    "            print(\"truth\", truth)\n",
    "            \n",
    "            results = bertscore( predicted, truth)\n",
    "            Bertscore_metric = Bertscore_metric + results['f1']\n",
    "            \n",
    "        \n",
    "        t = Bertscore_metric/len(dataset)\n",
    "        N_shot_results.append(t)\n",
    "        print(N_shot_results)\n",
    "        \n",
    "    return N_shot_results\n",
    "            \n",
    "            "
   ]
  },
  {
   "cell_type": "code",
   "execution_count": null,
   "id": "ac0eda3f-1f7b-4b24-82f4-ca632365104c",
   "metadata": {},
   "outputs": [
    {
     "name": "stdout",
     "output_type": "stream",
     "text": [
      "len 9\n",
      "input string Please answer to the following question:  1. Go to Transactions > Bank > Make Deposits > List. 2. From the Deposits list, click Edit next to the deposit you want to delete. 3. On the Deposit page, under Actions, click Delete. 4. At the prompt to confirm the action, click OK =>\n",
      "Predicted ['1. go to transactions > bank > make deposits > list. 2. click edit next to the deposit you want to delete. 3. on the deposit page, under actions, click delete. 4.']\n",
      "truth 1    ['click[transactions], click[bank], click[make...\n",
      "name: 1, dtype: object\n"
     ]
    },
    {
     "name": "stderr",
     "output_type": "stream",
     "text": [
      "Some weights of the model checkpoint at roberta-large were not used when initializing RobertaModel: ['lm_head.layer_norm.weight', 'lm_head.decoder.weight', 'lm_head.layer_norm.bias', 'lm_head.dense.bias', 'lm_head.bias', 'lm_head.dense.weight']\n",
      "- This IS expected if you are initializing RobertaModel from the checkpoint of a model trained on another task or with another architecture (e.g. initializing a BertForSequenceClassification model from a BertForPreTraining model).\n",
      "- This IS NOT expected if you are initializing RobertaModel from the checkpoint of a model that you expect to be exactly identical (initializing a BertForSequenceClassification model from a BertForSequenceClassification model).\n"
     ]
    },
    {
     "name": "stdout",
     "output_type": "stream",
     "text": [
      "huggingface/tokenizers: The current process just got forked, after parallelism has already been used. Disabling parallelism to avoid deadlocks...\n",
      "To disable this warning, you can either:\n",
      "\t- Avoid using `tokenizers` before the fork if possible\n",
      "\t- Explicitly set the environment variable TOKENIZERS_PARALLELISM=(true | false)\n",
      "huggingface/tokenizers: The current process just got forked, after parallelism has already been used. Disabling parallelism to avoid deadlocks...\n",
      "To disable this warning, you can either:\n",
      "\t- Avoid using `tokenizers` before the fork if possible\n",
      "\t- Explicitly set the environment variable TOKENIZERS_PARALLELISM=(true | false)\n",
      "huggingface/tokenizers: The current process just got forked, after parallelism has already been used. Disabling parallelism to avoid deadlocks...\n",
      "To disable this warning, you can either:\n",
      "\t- Avoid using `tokenizers` before the fork if possible\n",
      "\t- Explicitly set the environment variable TOKENIZERS_PARALLELISM=(true | false)\n",
      "huggingface/tokenizers: The current process just got forked, after parallelism has already been used. Disabling parallelism to avoid deadlocks...\n",
      "To disable this warning, you can either:\n",
      "\t- Avoid using `tokenizers` before the fork if possible\n",
      "\t- Explicitly set the environment variable TOKENIZERS_PARALLELISM=(true | false)\n",
      "huggingface/tokenizers: The current process just got forked, after parallelism has already been used. Disabling parallelism to avoid deadlocks...\n",
      "To disable this warning, you can either:\n",
      "\t- Avoid using `tokenizers` before the fork if possible\n",
      "\t- Explicitly set the environment variable TOKENIZERS_PARALLELISM=(true | false)\n",
      "\t- Explicitly set the environment variable TOKENIZERS_PARALLELISM=(true | false)\n"
     ]
    },
    {
     "name": "stderr",
     "output_type": "stream",
     "text": [
      "Traceback (most recent call last):\n",
      "  File \"/home/yannam_umass_edu/.conda/envs/my_env_oracle/lib/python3.9/multiprocessing/util.py\", line 300, in _run_finalizers\n",
      "    finalizer()\n",
      "  File \"/home/yannam_umass_edu/.conda/envs/my_env_oracle/lib/python3.9/multiprocessing/util.py\", line 224, in __call__\n",
      "    res = self._callback(*self._args, **self._kwargs)\n",
      "  File \"/home/yannam_umass_edu/.conda/envs/my_env_oracle/lib/python3.9/multiprocessing/util.py\", line 133, in _remove_temp_dir\n",
      "    rmtree(tempdir)\n",
      "  File \"/home/yannam_umass_edu/.conda/envs/my_env_oracle/lib/python3.9/shutil.py\", line 734, in rmtree\n",
      "    _rmtree_safe_fd(fd, path, onerror)\n",
      "  File \"/home/yannam_umass_edu/.conda/envs/my_env_oracle/lib/python3.9/shutil.py\", line 690, in _rmtree_safe_fd\n",
      "    onerror(os.unlink, fullname, sys.exc_info())\n",
      "  File \"/home/yannam_umass_edu/.conda/envs/my_env_oracle/lib/python3.9/shutil.py\", line 688, in _rmtree_safe_fd\n",
      "    os.unlink(entry.name, dir_fd=topfd)\n",
      "OSError: [Errno 16] Device or resource busy: '.nfsdb1d48aa02f91b3b0000b6b9'\n"
     ]
    },
    {
     "name": "stdout",
     "output_type": "stream",
     "text": [
      "huggingface/tokenizers: The current process just got forked, after parallelism has already been used. Disabling parallelism to avoid deadlocks...\n",
      "To disable this warning, you can either:\n",
      "\t- Avoid using `tokenizers` before the fork if possible\n",
      "\t- Explicitly set the environment variable TOKENIZERS_PARALLELISM=(true | false)\n",
      "huggingface/tokenizers: The current process just got forked, after parallelism has already been used. Disabling parallelism to avoid deadlocks...\n",
      "To disable this warning, you can either:\n",
      "\t- Avoid using `tokenizers` before the fork if possible\n",
      "\t- Explicitly set the environment variable TOKENIZERS_PARALLELISM=(true | false)\n",
      "huggingface/tokenizers: The current process just got forked, after parallelism has already been used. Disabling parallelism to avoid deadlocks...\n",
      "To disable this warning, you can either:\n",
      "\t- Avoid using `tokenizers` before the fork if possible\n",
      "\t- Explicitly set the environment variable TOKENIZERS_PARALLELISM=(true | false)\n",
      "huggingface/tokenizers: The current process just got forked, after parallelism has already been used. Disabling parallelism to avoid deadlocks...\n",
      "To disable this warning, you can either:\n",
      "\t- Avoid using `tokenizers` before the fork if possible\n",
      "\t- Explicitly set the environment variable TOKENIZERS_PARALLELISM=(true | false)\n"
     ]
    }
   ],
   "source": [
    "N_shot_results = N_shots(temp_dataset[1:10], 2)"
   ]
  },
  {
   "cell_type": "code",
   "execution_count": null,
   "id": "813e10ea-ecf4-4cf8-9568-43f4b5890186",
   "metadata": {},
   "outputs": [],
   "source": [
    "N_shot_results"
   ]
  },
  {
   "cell_type": "code",
   "execution_count": 43,
   "id": "053472c8-f98d-479c-9043-0d42858ebe1d",
   "metadata": {},
   "outputs": [
    {
     "data": {
      "image/png": "[encoded data removed]",
      "text/plain": [
       "<Figure size 640x480 with 1 Axes>"
      ]
     },
     "metadata": {},
     "output_type": "display_data"
    }
   ],
   "source": [
    "plt.plot(0, N_shot_results, label= 'BertScore')\n",
    "plt.xlabel(\"Number of examples in the prompt\")\n",
    "plt.ylabel(\"Magnitude\")\n",
    "plt.title(\"Evaluation Metrics of FLAN-T5\")\n",
    "  \n",
    "# Adding legend, which helps us recognize the curve according to it's color\n",
    "plt.legend()\n",
    "plt.show()"
   ]
  },
  {
   "cell_type": "code",
   "execution_count": 52,
   "id": "66ed4dd6-248e-4ba9-9190-bee34fc3f7aa",
   "metadata": {},
   "outputs": [
    {
     "name": "stdout",
     "output_type": "stream",
     "text": [
      "huggingface/tokenizers: The current process just got forked, after parallelism has already been used. Disabling parallelism to avoid deadlocks...\n",
      "To disable this warning, you can either:\n",
      "\t- Avoid using `tokenizers` before the fork if possible\n",
      "\t- Explicitly set the environment variable TOKENIZERS_PARALLELISM=(true | false)\n",
      "srun: error: Unable to create step for job 6365292: Memory required by task is not available\n"
     ]
    }
   ],
   "source": [
    "!srun --account=yannam_umass_edu --partition=gypsum-titanx --mem=50G --time=4:00:00 --gres=gpu:1 --pty /bin/bash"
   ]
  },
  {
   "cell_type": "code",
   "execution_count": 46,
   "id": "2ab7a0de-974b-46bf-85d8-ebcfa3627129",
   "metadata": {},
   "outputs": [
    {
     "name": "stdout",
     "output_type": "stream",
     "text": [
      "huggingface/tokenizers: The current process just got forked, after parallelism has already been used. Disabling parallelism to avoid deadlocks...\n",
      "To disable this warning, you can either:\n",
      "\t- Avoid using `tokenizers` before the fork if possible\n",
      "\t- Explicitly set the environment variable TOKENIZERS_PARALLELISM=(true | false)\n",
      "Defaulting to user installation because normal site-packages is not writeable\n",
      "\u001b[31mERROR: Could not find a version that satisfies the requirement nvidia (from versions: none)\u001b[0m\u001b[31m\n",
      "\u001b[0m\u001b[31mERROR: No matching distribution found for nvidia\u001b[0m\u001b[31m\n",
      "\u001b[0m"
     ]
    }
   ],
   "source": [
    "!pip install nvidia"
   ]
  },
  {
   "cell_type": "code",
   "execution_count": 49,
   "id": "d1f4b340-ae17-44cf-8de7-82c19992703b",
   "metadata": {},
   "outputs": [
    {
     "name": "stdout",
     "output_type": "stream",
     "text": [
      "huggingface/tokenizers: The current process just got forked, after parallelism has already been used. Disabling parallelism to avoid deadlocks...\n",
      "To disable this warning, you can either:\n",
      "\t- Avoid using `tokenizers` before the fork if possible\n",
      "\t- Explicitly set the environment variable TOKENIZERS_PARALLELISM=(true | false)\n",
      "Fri Mar 31 13:12:25 2023       \n",
      "+-----------------------------------------------------------------------------+\n",
      "| NVIDIA-SMI 510.85.02    Driver Version: 510.85.02    CUDA Version: 11.6     |\n",
      "|-------------------------------+----------------------+----------------------+\n",
      "| GPU  Name        Persistence-M| Bus-Id        Disp.A | Volatile Uncorr. ECC |\n",
      "| Fan  Temp  Perf  Pwr:Usage/Cap|         Memory-Usage | GPU-Util  Compute M. |\n",
      "|                               |                      |               MIG M. |\n",
      "|===============================+======================+======================|\n",
      "|   0  NVIDIA GeForce ...  On   | 00000000:02:00.0 Off |                  N/A |\n",
      "| 22%   38C    P8    16W / 250W |      1MiB / 12288MiB |      0%      Default |\n",
      "|                               |                      |                  N/A |\n",
      "+-------------------------------+----------------------+----------------------+\n",
      "                                                                               \n",
      "+-----------------------------------------------------------------------------+\n",
      "| Processes:                                                                  |\n",
      "|  GPU   GI   CI        PID   Type   Process name                  GPU Memory |\n",
      "|        ID   ID                                                   Usage      |\n",
      "|=============================================================================|\n",
      "|  No running processes found                                                 |\n",
      "+-----------------------------------------------------------------------------+\n"
     ]
    }
   ],
   "source": [
    "!nvidia-smi"
   ]
  },
  {
   "cell_type": "code",
   "execution_count": 51,
   "id": "42ab14e1-3790-47bc-9352-ca31106e6885",
   "metadata": {},
   "outputs": [
    {
     "name": "stdout",
     "output_type": "stream",
     "text": [
      "huggingface/tokenizers: The current process just got forked, after parallelism has already been used. Disabling parallelism to avoid deadlocks...\n",
      "To disable this warning, you can either:\n",
      "\t- Avoid using `tokenizers` before the fork if possible\n",
      "\t- Explicitly set the environment variable TOKENIZERS_PARALLELISM=(true | false)\n",
      "srun: error: Unable to create step for job 6365292: Memory required by task is not available\n"
     ]
    }
   ],
   "source": [
    "!srun --partition=gypsum-titanx --mem=50G --time=4:00:00 --gres=gpu:1 --pty /bin/bash"
   ]
  },
  {
   "cell_type": "code",
   "execution_count": 18,
   "id": "c5b8b058-311d-487b-8edd-1d8478c7c78f",
   "metadata": {},
   "outputs": [],
   "source": [
    "TOKENIZERS_PARALLELISM=(True)"
   ]
  },
  {
   "cell_type": "code",
   "execution_count": null,
   "id": "ec7c54a5-1bed-47bc-9b9f-b1ab5298df7d",
   "metadata": {},
   "outputs": [],
   "source": []
  }
 ],
 "metadata": {
  "kernelspec": {
   "display_name": "Python (.conda-my_env_oracle)",
   "language": "python",
   "name": "conda-env-.conda-my_env_oracle-py"
  },
  "language_info": {
   "codemirror_mode": {
    "name": "ipython",
    "version": 3
   },
   "file_extension": ".py",
   "mimetype": "text/x-python",
   "name": "python",
   "nbconvert_exporter": "python",
   "pygments_lexer": "ipython3",
   "version": "3.9.16"
  }
 },
 "nbformat": 4,
 "nbformat_minor": 5
}
